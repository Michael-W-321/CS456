{
 "cells": [
  {
   "cell_type": "markdown",
   "id": "762cdbcc-df5c-4ce2-aa5c-d8b3b1cf0eaa",
   "metadata": {},
   "source": [
    "Name: Michael Whitefoot\n",
    "Course: CS 456 Data Mining\n",
    "Lab 1: Getting Started with Jupyter Notebook and Pandas\n",
    "\n",
    "In this notebook I will be designing, building, and manipulating my own data set with multiple dypes to become more comfortable with creating structured data, and handling different types of data while using pandas."
   ]
  },
  {
   "cell_type": "markdown",
   "id": "2707d5ac-8a1a-473c-ab2b-a6962285c2c1",
   "metadata": {},
   "source": [
    " "
   ]
  },
  {
   "cell_type": "code",
   "execution_count": 57,
   "id": "bd49963f-aa63-4837-ae89-931bb9dd0d19",
   "metadata": {},
   "outputs": [],
   "source": [
    "#import libraries\n",
    "import pandas as pd \n",
    "import numpy as np\n",
    "from datetime import datetime, timedelta\n",
    "import random\n",
    "\n",
    "#random seed for reproducibility \n",
    "np.random.seed(42)\n",
    "\n",
    "#create the random data \n",
    "student_ids = np.arange(1001,1051) #50 different id's \n",
    "scores = np.random.uniform(50,100,50) # random float scores between 50-100\n",
    "majors = random.choices(['Computer Science', 'Math','Biology', 'Psychology','Construction'], k=50) #random majors\n",
    "grad_year = np.random.choice([2025,2026,2027],50) #random graduation years\n",
    "pass_fail = [score >= 60 for score in scores] #boolean based on scores\n",
    "\n",
    "#put together DataFrame\n",
    "data = {\n",
    "    'Student_ID': student_ids,\n",
    "    'Score': scores,\n",
    "    'Major': majors,\n",
    "    'Graduation_Year': grad_year,\n",
    "    'Pass/Fail': pass_fail\n",
    "}\n",
    "\n",
    "df = pd.DataFrame(data)"
   ]
  },
  {
   "cell_type": "code",
   "execution_count": 59,
   "id": "e2bfd51e-a187-4457-a156-6c82c4a5d30d",
   "metadata": {},
   "outputs": [
    {
     "data": {
      "text/html": [
       "<div>\n",
       "<style scoped>\n",
       "    .dataframe tbody tr th:only-of-type {\n",
       "        vertical-align: middle;\n",
       "    }\n",
       "\n",
       "    .dataframe tbody tr th {\n",
       "        vertical-align: top;\n",
       "    }\n",
       "\n",
       "    .dataframe thead th {\n",
       "        text-align: right;\n",
       "    }\n",
       "</style>\n",
       "<table border=\"1\" class=\"dataframe\">\n",
       "  <thead>\n",
       "    <tr style=\"text-align: right;\">\n",
       "      <th></th>\n",
       "      <th>Student_ID</th>\n",
       "      <th>Score</th>\n",
       "      <th>Major</th>\n",
       "      <th>Graduation_Year</th>\n",
       "      <th>Pass/Fail</th>\n",
       "    </tr>\n",
       "  </thead>\n",
       "  <tbody>\n",
       "    <tr>\n",
       "      <th>0</th>\n",
       "      <td>1001</td>\n",
       "      <td>68.727006</td>\n",
       "      <td>Construction</td>\n",
       "      <td>2027</td>\n",
       "      <td>True</td>\n",
       "    </tr>\n",
       "    <tr>\n",
       "      <th>1</th>\n",
       "      <td>1002</td>\n",
       "      <td>97.535715</td>\n",
       "      <td>Computer Science</td>\n",
       "      <td>2026</td>\n",
       "      <td>True</td>\n",
       "    </tr>\n",
       "    <tr>\n",
       "      <th>2</th>\n",
       "      <td>1003</td>\n",
       "      <td>86.599697</td>\n",
       "      <td>Biology</td>\n",
       "      <td>2026</td>\n",
       "      <td>True</td>\n",
       "    </tr>\n",
       "    <tr>\n",
       "      <th>3</th>\n",
       "      <td>1004</td>\n",
       "      <td>79.932924</td>\n",
       "      <td>Construction</td>\n",
       "      <td>2026</td>\n",
       "      <td>True</td>\n",
       "    </tr>\n",
       "    <tr>\n",
       "      <th>4</th>\n",
       "      <td>1005</td>\n",
       "      <td>57.800932</td>\n",
       "      <td>Computer Science</td>\n",
       "      <td>2026</td>\n",
       "      <td>False</td>\n",
       "    </tr>\n",
       "  </tbody>\n",
       "</table>\n",
       "</div>"
      ],
      "text/plain": [
       "   Student_ID      Score             Major  Graduation_Year  Pass/Fail\n",
       "0        1001  68.727006      Construction             2027       True\n",
       "1        1002  97.535715  Computer Science             2026       True\n",
       "2        1003  86.599697           Biology             2026       True\n",
       "3        1004  79.932924      Construction             2026       True\n",
       "4        1005  57.800932  Computer Science             2026      False"
      ]
     },
     "execution_count": 59,
     "metadata": {},
     "output_type": "execute_result"
    }
   ],
   "source": [
    "#Display first 5 rows of DataFrame\n",
    "df.head()"
   ]
  },
  {
   "cell_type": "code",
   "execution_count": 61,
   "id": "bec01a38-64fc-4239-8ae5-7cb0fbdf290b",
   "metadata": {},
   "outputs": [
    {
     "data": {
      "text/html": [
       "<div>\n",
       "<style scoped>\n",
       "    .dataframe tbody tr th:only-of-type {\n",
       "        vertical-align: middle;\n",
       "    }\n",
       "\n",
       "    .dataframe tbody tr th {\n",
       "        vertical-align: top;\n",
       "    }\n",
       "\n",
       "    .dataframe thead th {\n",
       "        text-align: right;\n",
       "    }\n",
       "</style>\n",
       "<table border=\"1\" class=\"dataframe\">\n",
       "  <thead>\n",
       "    <tr style=\"text-align: right;\">\n",
       "      <th></th>\n",
       "      <th>Student_ID</th>\n",
       "      <th>Score</th>\n",
       "      <th>Major</th>\n",
       "      <th>Graduation_Year</th>\n",
       "      <th>Pass/Fail</th>\n",
       "    </tr>\n",
       "  </thead>\n",
       "  <tbody>\n",
       "    <tr>\n",
       "      <th>45</th>\n",
       "      <td>1046</td>\n",
       "      <td>83.126114</td>\n",
       "      <td>Computer Science</td>\n",
       "      <td>2026</td>\n",
       "      <td>True</td>\n",
       "    </tr>\n",
       "    <tr>\n",
       "      <th>46</th>\n",
       "      <td>1047</td>\n",
       "      <td>65.585554</td>\n",
       "      <td>Psychology</td>\n",
       "      <td>2025</td>\n",
       "      <td>True</td>\n",
       "    </tr>\n",
       "    <tr>\n",
       "      <th>47</th>\n",
       "      <td>1048</td>\n",
       "      <td>76.003401</td>\n",
       "      <td>Construction</td>\n",
       "      <td>2027</td>\n",
       "      <td>True</td>\n",
       "    </tr>\n",
       "    <tr>\n",
       "      <th>48</th>\n",
       "      <td>1049</td>\n",
       "      <td>77.335514</td>\n",
       "      <td>Psychology</td>\n",
       "      <td>2027</td>\n",
       "      <td>True</td>\n",
       "    </tr>\n",
       "    <tr>\n",
       "      <th>49</th>\n",
       "      <td>1050</td>\n",
       "      <td>59.242723</td>\n",
       "      <td>Biology</td>\n",
       "      <td>2026</td>\n",
       "      <td>False</td>\n",
       "    </tr>\n",
       "  </tbody>\n",
       "</table>\n",
       "</div>"
      ],
      "text/plain": [
       "    Student_ID      Score             Major  Graduation_Year  Pass/Fail\n",
       "45        1046  83.126114  Computer Science             2026       True\n",
       "46        1047  65.585554        Psychology             2025       True\n",
       "47        1048  76.003401      Construction             2027       True\n",
       "48        1049  77.335514        Psychology             2027       True\n",
       "49        1050  59.242723           Biology             2026      False"
      ]
     },
     "execution_count": 61,
     "metadata": {},
     "output_type": "execute_result"
    }
   ],
   "source": [
    "#Display last 5 rows of DataFrame\n",
    "df.tail()"
   ]
  },
  {
   "cell_type": "code",
   "execution_count": 63,
   "id": "44b87072-f697-4cf6-81ce-35592a35cbee",
   "metadata": {},
   "outputs": [
    {
     "data": {
      "text/plain": [
       "Student_ID           int32\n",
       "Score              float64\n",
       "Major               object\n",
       "Graduation_Year      int32\n",
       "Pass/Fail             bool\n",
       "dtype: object"
      ]
     },
     "execution_count": 63,
     "metadata": {},
     "output_type": "execute_result"
    }
   ],
   "source": [
    "#Show column names and data types\n",
    "df.dtypes"
   ]
  },
  {
   "cell_type": "code",
   "execution_count": 65,
   "id": "c42d4e88-5cea-4917-8b84-5900963ca645",
   "metadata": {},
   "outputs": [
    {
     "name": "stdout",
     "output_type": "stream",
     "text": [
      "       Student_ID      Score  Graduation_Year\n",
      "count    50.00000  50.000000         50.00000\n",
      "mean   1025.50000  72.296195       2025.96000\n",
      "std      14.57738  14.444160          0.85619\n",
      "min    1001.00000  51.029225       2025.00000\n",
      "25%    1013.25000  59.188350       2025.00000\n",
      "50%    1025.50000  71.802438       2026.00000\n",
      "75%    1037.75000  82.492747       2027.00000\n",
      "max    1050.00000  98.495493       2027.00000\n"
     ]
    }
   ],
   "source": [
    "#Generate descriptive statstics for numeric columns\n",
    "print(df.describe())"
   ]
  },
  {
   "cell_type": "code",
   "execution_count": 67,
   "id": "aa184453-b9f0-42fa-ba0c-81ed2a386a38",
   "metadata": {},
   "outputs": [
    {
     "name": "stdout",
     "output_type": "stream",
     "text": [
      "Number of unique values in 'Major': 5\n"
     ]
    }
   ],
   "source": [
    "#Find number of unique values in a categorical column\n",
    "\n",
    "print(\"Number of unique values in 'Major':\",df['Major'].nunique())"
   ]
  },
  {
   "cell_type": "markdown",
   "id": "5ecc13f0-64c3-4347-ba96-9c478fcf6f5c",
   "metadata": {},
   "source": [
    "Column Challenge-\n",
    "Add a new column that is computed from other columns and save your new table with at least 6 columns to a CSV file."
   ]
  },
  {
   "cell_type": "code",
   "execution_count": 37,
   "id": "606572ad-6e84-4d7d-937c-1dce39521462",
   "metadata": {},
   "outputs": [],
   "source": [
    "#Convert the number score to a letter grade\n",
    "def letter_grade(score):\n",
    "    if score >= 90:\n",
    "        return 'A'\n",
    "    elif score >=80:\n",
    "        return 'B'\n",
    "    elif score >= 70:\n",
    "        return 'C'\n",
    "    elif score >=60:\n",
    "        return 'D'\n",
    "    else:\n",
    "        return 'F'\n",
    "\n",
    "df['Letter_Grade'] = df['Score'].apply(letter_grade)\n",
    "\n",
    "#save to CSV file\n",
    "df.to_csv('Lab1_columns.csv', index=False)\n"
   ]
  },
  {
   "cell_type": "code",
   "execution_count": 39,
   "id": "e0830472-d4b7-4588-8072-ef487fb1d038",
   "metadata": {},
   "outputs": [
    {
     "data": {
      "text/html": [
       "<div>\n",
       "<style scoped>\n",
       "    .dataframe tbody tr th:only-of-type {\n",
       "        vertical-align: middle;\n",
       "    }\n",
       "\n",
       "    .dataframe tbody tr th {\n",
       "        vertical-align: top;\n",
       "    }\n",
       "\n",
       "    .dataframe thead th {\n",
       "        text-align: right;\n",
       "    }\n",
       "</style>\n",
       "<table border=\"1\" class=\"dataframe\">\n",
       "  <thead>\n",
       "    <tr style=\"text-align: right;\">\n",
       "      <th></th>\n",
       "      <th>Student_ID</th>\n",
       "      <th>Score</th>\n",
       "      <th>Major</th>\n",
       "      <th>Graduation_Year</th>\n",
       "      <th>Pass/Fail</th>\n",
       "      <th>Letter_Grade</th>\n",
       "    </tr>\n",
       "  </thead>\n",
       "  <tbody>\n",
       "    <tr>\n",
       "      <th>0</th>\n",
       "      <td>1001</td>\n",
       "      <td>68.727006</td>\n",
       "      <td>Computer Science</td>\n",
       "      <td>2027</td>\n",
       "      <td>True</td>\n",
       "      <td>D</td>\n",
       "    </tr>\n",
       "    <tr>\n",
       "      <th>1</th>\n",
       "      <td>1002</td>\n",
       "      <td>97.535715</td>\n",
       "      <td>Construction</td>\n",
       "      <td>2026</td>\n",
       "      <td>True</td>\n",
       "      <td>A</td>\n",
       "    </tr>\n",
       "    <tr>\n",
       "      <th>2</th>\n",
       "      <td>1003</td>\n",
       "      <td>86.599697</td>\n",
       "      <td>Math</td>\n",
       "      <td>2026</td>\n",
       "      <td>True</td>\n",
       "      <td>B</td>\n",
       "    </tr>\n",
       "    <tr>\n",
       "      <th>3</th>\n",
       "      <td>1004</td>\n",
       "      <td>79.932924</td>\n",
       "      <td>Computer Science</td>\n",
       "      <td>2026</td>\n",
       "      <td>True</td>\n",
       "      <td>C</td>\n",
       "    </tr>\n",
       "    <tr>\n",
       "      <th>4</th>\n",
       "      <td>1005</td>\n",
       "      <td>57.800932</td>\n",
       "      <td>Math</td>\n",
       "      <td>2026</td>\n",
       "      <td>False</td>\n",
       "      <td>F</td>\n",
       "    </tr>\n",
       "  </tbody>\n",
       "</table>\n",
       "</div>"
      ],
      "text/plain": [
       "   Student_ID      Score             Major  Graduation_Year  Pass/Fail  \\\n",
       "0        1001  68.727006  Computer Science             2027       True   \n",
       "1        1002  97.535715      Construction             2026       True   \n",
       "2        1003  86.599697              Math             2026       True   \n",
       "3        1004  79.932924  Computer Science             2026       True   \n",
       "4        1005  57.800932              Math             2026      False   \n",
       "\n",
       "  Letter_Grade  \n",
       "0            D  \n",
       "1            A  \n",
       "2            B  \n",
       "3            C  \n",
       "4            F  "
      ]
     },
     "execution_count": 39,
     "metadata": {},
     "output_type": "execute_result"
    }
   ],
   "source": [
    "#display new DataFrame\n",
    "df.head()"
   ]
  }
 ],
 "metadata": {
  "kernelspec": {
   "display_name": "Python 3 (ipykernel)",
   "language": "python",
   "name": "python3"
  },
  "language_info": {
   "codemirror_mode": {
    "name": "ipython",
    "version": 3
   },
   "file_extension": ".py",
   "mimetype": "text/x-python",
   "name": "python",
   "nbconvert_exporter": "python",
   "pygments_lexer": "ipython3",
   "version": "3.12.4"
  }
 },
 "nbformat": 4,
 "nbformat_minor": 5
}
